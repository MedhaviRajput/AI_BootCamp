{
  "nbformat": 4,
  "nbformat_minor": 0,
  "metadata": {
    "colab": {
      "provenance": []
    },
    "kernelspec": {
      "name": "python3",
      "display_name": "Python 3"
    },
    "language_info": {
      "name": "python"
    }
  },
  "cells": [
    {
      "cell_type": "code",
      "execution_count": 2,
      "metadata": {
        "colab": {
          "base_uri": "https://localhost:8080/"
        },
        "id": "v3SSYRueZ6S6",
        "outputId": "c639cfe4-1a76-4227-d55e-ae7af73eb13c"
      },
      "outputs": [
        {
          "output_type": "stream",
          "name": "stdout",
          "text": [
            "\n",
            "--- Simple  Calculator ---\n",
            "Enter first number: 34\n",
            "Enter operator (+, -, *, /): +\n",
            "Enter second number: 2\n",
            "Result: 36.0\n",
            "Do you want to calculate again? (yes/no): No\n",
            "Complite exitution\n"
          ]
        }
      ],
      "source": [
        "\n",
        "\n",
        "# Define functions for operations\n",
        "def add(a, b):\n",
        "    return a + b\n",
        "\n",
        "def subtract(a, b):\n",
        "    return a - b\n",
        "\n",
        "def multiply(a, b):\n",
        "    return a * b\n",
        "\n",
        "def divide(a, b):\n",
        "    if b == 0:\n",
        "        return \"Error: Division by zero\"\n",
        "    return a / b\n",
        "\n",
        "# Main calculator function\n",
        "def calculator():\n",
        "    print(\"\\n--- Simple  Calculator ---\")\n",
        "    num1 = float(input(\"Enter first number: \"))\n",
        "    op = input(\"Enter operator (+, -, *, /): \")\n",
        "    num2 = float(input(\"Enter second number: \"))\n",
        "\n",
        "    if op == '+':\n",
        "        result = add(num1, num2)\n",
        "    elif op == '-':\n",
        "        result = subtract(num1, num2)\n",
        "    elif op == '*':\n",
        "        result = multiply(num1, num2)\n",
        "    elif op == '/':\n",
        "        result = divide(num1, num2)\n",
        "    else:\n",
        "        result = \"Invalid operator\"\n",
        "\n",
        "    print(\"Result:\", result)\n",
        "\n",
        "# Simulating a do-while loop\n",
        "while True:\n",
        "    calculator()\n",
        "    again = input(\"Do you want to calculate again? (yes/no): \").lower()\n",
        "    if again != 'yes':\n",
        "        print(\"Complite exitution\")\n",
        "        break\n",
        "\n",
        ""
      ]
    }
  ]
}